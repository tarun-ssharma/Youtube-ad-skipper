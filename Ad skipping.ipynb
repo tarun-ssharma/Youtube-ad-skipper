{
 "cells": [
  {
   "cell_type": "code",
   "execution_count": 1,
   "metadata": {},
   "outputs": [],
   "source": [
    "'''\n",
    "PYTHON_CONFIGURE_OPTS=\"--with-tcltk-includes='-I/usr/local/opt/tcl-tk/include' --with-tcltk-libs='-L/usr/local/opt/tcl-tk/lib -ltcl8.6 -ltk8.6'\" pyenv install 3.7.4\n",
    "'''\n",
    "# sudo apt install scrot\n",
    "# pip install opencv-python"
   ]
  },
  {
   "cell_type": "code",
   "execution_count": 2,
   "metadata": {},
   "outputs": [],
   "source": [
    "import cv2\n",
    "import numpy as np\n",
    "import pyautogui\n",
    "import sys\n",
    "from os import listdir, getcwd\n",
    "from os.path import isfile, join, abspath\n",
    "import time"
   ]
  },
  {
   "cell_type": "code",
   "execution_count": 3,
   "metadata": {},
   "outputs": [
    {
     "name": "stdout",
     "output_type": "stream",
     "text": [
      "4.4.0\n"
     ]
    }
   ],
   "source": [
    "print(cv2.__version__)"
   ]
  },
  {
   "cell_type": "code",
   "execution_count": 4,
   "metadata": {},
   "outputs": [
    {
     "data": {
      "text/plain": [
       "'OK'"
      ]
     },
     "execution_count": 4,
     "metadata": {},
     "output_type": "execute_result"
    }
   ],
   "source": [
    "# Read the video frame \n",
    "will_point = pyautogui.confirm('Hello! I will skip the youtube video. Please point me to the video and then click OK.')\n",
    "if will_point == 'Cancel':\n",
    "    sys.exit()\n",
    "pyautogui.alert('Thank you. I will be on the lookout for skip button. You can close me by moving mouse pointer to top left corner of your monitor.')"
   ]
  },
  {
   "cell_type": "code",
   "execution_count": 5,
   "metadata": {},
   "outputs": [
    {
     "name": "stdout",
     "output_type": "stream",
     "text": [
      "(array([827]), array([1292]))\n",
      "(array([827]), array([1292]))\n",
      "Top left!\n"
     ]
    }
   ],
   "source": [
    "threshold = 0.8\n",
    "path = getcwd() + '/templates/'\n",
    "template_files = [join(getcwd() + '/templates/', f) for f in () ]\n",
    "template_images = []\n",
    "for f in listdir(path):\n",
    "    filepath = join(path, f)\n",
    "    if isfile(filepath):\n",
    "        template_images.append(cv2.imread(filepath,0))\n",
    "    \n",
    "while True:\n",
    "    time.sleep(1)\n",
    "    x, y = pyautogui.position()\n",
    "    if (x,y) == (0,0):\n",
    "        print('Top left!')\n",
    "        break\n",
    "    screen = np.array(pyautogui.screenshot())\n",
    "    screen_gray = cv2.cvtColor(screen, cv2.COLOR_BGR2GRAY)\n",
    "    for template in template_images:\n",
    "        # Try to match template with the screen\n",
    "        result = cv2.matchTemplate(screen_gray, template, cv2.TM_CCOEFF_NORMED)\n",
    "        loc = np.where(result > threshold)\n",
    "        if loc[0].size > 0:\n",
    "            # Even if the frame changes on the video, skip ad button remains at the same place\n",
    "            # So click will work\n",
    "            print(loc)\n",
    "            pyautogui.click(list(zip(*loc[::-1]))[0])\n",
    "            #cv2.rectangle(screen_gray, list(zip(*loc[::-1]))[0], (100,100), (0,255,255), 2)\n",
    "            #cv2.imshow('detected', screen_gray)"
   ]
  },
  {
   "cell_type": "code",
   "execution_count": null,
   "metadata": {},
   "outputs": [],
   "source": [
    "# Next step -- deploy as an application or an online chrome extension"
   ]
  }
 ],
 "metadata": {
  "kernelspec": {
   "display_name": "Python 3",
   "language": "python",
   "name": "python3"
  },
  "language_info": {
   "codemirror_mode": {
    "name": "ipython",
    "version": 3
   },
   "file_extension": ".py",
   "mimetype": "text/x-python",
   "name": "python",
   "nbconvert_exporter": "python",
   "pygments_lexer": "ipython3",
   "version": "3.7.4"
  }
 },
 "nbformat": 4,
 "nbformat_minor": 4
}
